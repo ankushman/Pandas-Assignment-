{
 "cells": [
  {
   "cell_type": "markdown",
   "id": "d19cf3a3",
   "metadata": {},
   "source": [
    "# 🐼 Pandas Assignment Solutions",
    "This notebook contains the solutions to all parts of the real-world pandas assignments."
   ]
  },
  {
   "cell_type": "markdown",
   "id": "a5cd7bb0",
   "metadata": {},
   "source": [
    "## PART 1: Netflix Movies and TV Shows"
   ]
  },
  {
   "cell_type": "code",
   "execution_count": null,
   "id": "430a7bc6",
   "metadata": {},
   "outputs": [],
   "source": [
    "import pandas as pd",
    "netflix = pd.read_csv(\"netflix_titles.csv\")  # Adjust path as needed",
    "",
    "# 1. Display the first and last 5 rows",
    "netflix.head()"
   ]
  },
  {
   "cell_type": "code",
   "execution_count": null,
   "id": "a4254b4f",
   "metadata": {},
   "outputs": [],
   "source": [
    "netflix.tail()"
   ]
  },
  {
   "cell_type": "code",
   "execution_count": null,
   "id": "6c7f448d",
   "metadata": {},
   "outputs": [],
   "source": [
    "# 2. Number of rows and columns",
    "netflix.shape"
   ]
  },
  {
   "cell_type": "code",
   "execution_count": null,
   "id": "e06fb9d1",
   "metadata": {},
   "outputs": [],
   "source": [
    "# 3. Unique countries",
    "netflix['country'].nunique()"
   ]
  },
  {
   "cell_type": "code",
   "execution_count": null,
   "id": "0357c6c9",
   "metadata": {},
   "outputs": [],
   "source": [
    "# 4. Records where type is 'TV Show'",
    "netflix[netflix['type'] == 'TV Show']"
   ]
  },
  {
   "cell_type": "code",
   "execution_count": null,
   "id": "167b628e",
   "metadata": {},
   "outputs": [],
   "source": [
    "# 5. Convert 'date_added' to datetime and extract year, month",
    "netflix['date_added'] = pd.to_datetime(netflix['date_added'])",
    "netflix['year_added'] = netflix['date_added'].dt.year",
    "netflix['month_added'] = netflix['date_added'].dt.month",
    "netflix[['date_added', 'year_added', 'month_added']].head()"
   ]
  },
  {
   "cell_type": "code",
   "execution_count": null,
   "id": "0e4a9387",
   "metadata": {},
   "outputs": [],
   "source": [
    "# 6. Movies released in 2019",
    "netflix[(netflix['type'] == 'Movie') & (netflix['release_year'] == 2019)].shape[0]"
   ]
  },
  {
   "cell_type": "code",
   "execution_count": null,
   "id": "f4aad774",
   "metadata": {},
   "outputs": [],
   "source": [
    "# 7. Group by rating",
    "netflix['rating'].value_counts()"
   ]
  },
  {
   "cell_type": "markdown",
   "id": "ca63eff7",
   "metadata": {},
   "source": [
    "## PART 2: World Population Dataset"
   ]
  },
  {
   "cell_type": "code",
   "execution_count": null,
   "id": "3ecc6ca1",
   "metadata": {},
   "outputs": [],
   "source": [
    "pop = pd.read_csv(\"world_population.csv\")  # Adjust path as needed",
    "pop.head(10)"
   ]
  },
  {
   "cell_type": "code",
   "execution_count": null,
   "id": "5f8dc0b2",
   "metadata": {},
   "outputs": [],
   "source": [
    "# Check for null values",
    "pop.isnull().sum()"
   ]
  },
  {
   "cell_type": "code",
   "execution_count": null,
   "id": "844f463d",
   "metadata": {},
   "outputs": [],
   "source": [
    "# Top 5 most populous countries",
    "pop[['Country', 'Population']].sort_values(by='Population', ascending=False).head(5)"
   ]
  },
  {
   "cell_type": "code",
   "execution_count": null,
   "id": "40923c4b",
   "metadata": {},
   "outputs": [],
   "source": [
    "# GDP per capita",
    "pop['GDP_per_capita'] = pop['GDP'] / pop['Population']",
    "pop.head()"
   ]
  },
  {
   "cell_type": "code",
   "execution_count": null,
   "id": "559b8ae9",
   "metadata": {},
   "outputs": [],
   "source": [
    "# Filter by population and area",
    "pop[(pop['Population'] > 100_000_000) & (pop['Area (km²)'] < 500_000)]"
   ]
  },
  {
   "cell_type": "code",
   "execution_count": null,
   "id": "c8909a8a",
   "metadata": {},
   "outputs": [],
   "source": [
    "# Sort by density",
    "dens_sorted = pop.sort_values(by='Density (per km²)', ascending=False)",
    "dens_sorted[['Country', 'Density (per km²)']].head()"
   ]
  },
  {
   "cell_type": "markdown",
   "id": "4546183a",
   "metadata": {},
   "source": [
    "## PART 3: Indian Premier League (IPL)"
   ]
  },
  {
   "cell_type": "code",
   "execution_count": null,
   "id": "0787fce4",
   "metadata": {},
   "outputs": [],
   "source": [
    "matches = pd.read_csv(\"matches.csv\")  # Adjust path",
    "deliveries = pd.read_csv(\"deliveries.csv\")"
   ]
  },
  {
   "cell_type": "code",
   "execution_count": null,
   "id": "cb7550c3",
   "metadata": {},
   "outputs": [],
   "source": [
    "# Most successful team",
    "matches['winner'].value_counts().head(1)"
   ]
  },
  {
   "cell_type": "code",
   "execution_count": null,
   "id": "72cab8b4",
   "metadata": {},
   "outputs": [],
   "source": [
    "# Matches per season",
    "matches['season'].value_counts()"
   ]
  },
  {
   "cell_type": "code",
   "execution_count": null,
   "id": "08040ab6",
   "metadata": {},
   "outputs": [],
   "source": [
    "# Top 5 Player of the Match",
    "matches['player_of_match'].value_counts().head(5)"
   ]
  },
  {
   "cell_type": "code",
   "execution_count": null,
   "id": "ae65173c",
   "metadata": {},
   "outputs": [],
   "source": [
    "# Merge datasets",
    "merged = pd.merge(deliveries, matches, left_on='match_id', right_on='id')",
    "merged.head()"
   ]
  },
  {
   "cell_type": "markdown",
   "id": "ae53a8b6",
   "metadata": {},
   "source": [
    "## PART 4: Students Performance"
   ]
  },
  {
   "cell_type": "code",
   "execution_count": null,
   "id": "ba15dcf4",
   "metadata": {},
   "outputs": [],
   "source": [
    "students = pd.read_csv(\"StudentsPerformance.csv\")  # Adjust path",
    "# Average marks",
    "students[['math score', 'reading score', 'writing score']].mean()"
   ]
  },
  {
   "cell_type": "code",
   "execution_count": null,
   "id": "cb180508",
   "metadata": {},
   "outputs": [],
   "source": [
    "# Writing performance by gender",
    "students.groupby('gender')['writing score'].mean()"
   ]
  },
  {
   "cell_type": "code",
   "execution_count": null,
   "id": "19de8d8f",
   "metadata": {},
   "outputs": [],
   "source": [
    "# Total score and percentage",
    "students['total'] = students[['math score', 'reading score', 'writing score']].sum(axis=1)",
    "students['percentage'] = students['total'] / 3",
    "students.head()"
   ]
  },
  {
   "cell_type": "code",
   "execution_count": null,
   "id": "d3ec75c1",
   "metadata": {},
   "outputs": [],
   "source": [
    "# Bar chart by parental level of education",
    "import matplotlib.pyplot as plt",
    "students.groupby('parental level of education')[['math score', 'reading score', 'writing score']].mean().plot(kind='bar')",
    "plt.title('Average Scores by Parental Education')",
    "plt.ylabel('Average Score')",
    "plt.xticks(rotation=45)",
    "plt.tight_layout()",
    "plt.show()"
   ]
  },
  {
   "cell_type": "code",
   "execution_count": null,
   "id": "011d1678",
   "metadata": {},
   "outputs": [],
   "source": [
    "# Students scoring above 90% in all subjects",
    "students[(students['math score'] > 90) & (students['reading score'] > 90) & (students['writing score'] > 90)]"
   ]
  },
  {
   "cell_type": "markdown",
   "id": "60d86ce7",
   "metadata": {},
   "source": [
    "## PART 5: Flight Price Prediction"
   ]
  },
  {
   "cell_type": "code",
   "execution_count": null,
   "id": "51d811e8",
   "metadata": {},
   "outputs": [],
   "source": [
    "flights = pd.read_csv(\"flight_data.csv\")  # Adjust path",
    "flights.info()",
    "flights.describe()"
   ]
  },
  {
   "cell_type": "code",
   "execution_count": null,
   "id": "2c9afe22",
   "metadata": {},
   "outputs": [],
   "source": [
    "# Convert datetime columns",
    "flights['Date_of_Journey'] = pd.to_datetime(flights['Date_of_Journey'], format='%d/%m/%Y')",
    "flights['Journey_Day'] = flights['Date_of_Journey'].dt.day",
    "flights['Journey_Month'] = flights['Date_of_Journey'].dt.month",
    "flights.head()"
   ]
  },
  {
   "cell_type": "code",
   "execution_count": null,
   "id": "f898a44e",
   "metadata": {},
   "outputs": [],
   "source": [
    "# Most frequent airline and source",
    "flights['Airline'].mode()[0], flights['Source'].mode()[0]"
   ]
  },
  {
   "cell_type": "code",
   "execution_count": null,
   "id": "291b4f20",
   "metadata": {},
   "outputs": [],
   "source": [
    "# Remove duplicates and handle missing",
    "flights.drop_duplicates(inplace=True)",
    "flights.dropna(inplace=True)",
    "flights.isnull().sum()"
   ]
  }
 ],
 "metadata": {
  "kernelspec": {
   "display_name": "Python 3",
   "language": "python",
   "name": "python3"
  },
  "language_info": {
   "file_extension": ".py",
   "mimetype": "text/x-python",
   "name": "python",
   "version": "3.9.0"
  }
 },
 "nbformat": 4,
 "nbformat_minor": 5
}
